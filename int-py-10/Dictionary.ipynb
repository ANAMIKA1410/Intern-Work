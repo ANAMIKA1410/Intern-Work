{
  "nbformat": 4,
  "nbformat_minor": 5,
  "metadata": {
    "kernelspec": {
      "display_name": "Python 3",
      "language": "python",
      "name": "python3"
    },
    "language_info": {
      "codemirror_mode": {
        "name": "ipython",
        "version": 3
      },
      "file_extension": ".py",
      "mimetype": "text/x-python",
      "name": "python",
      "nbconvert_exporter": "python",
      "pygments_lexer": "ipython3",
      "version": "3.8.8"
    },
    "colab": {
      "name": "Dictionary.ipynb",
      "provenance": [],
      "collapsed_sections": []
    }
  },
  "cells": [
    {
      "cell_type": "markdown",
      "metadata": {
        "id": "c8971553"
      },
      "source": [
        "<h2 align=\"center\"> DICTIONARIES IN PYTHON </h2>\n",
        "<h3 align=\"center\"> This mark down file helps understand DICTIONARIES  in PYTHON."
      ],
      "id": "c8971553"
    },
    {
      "cell_type": "markdown",
      "metadata": {
        "id": "2b383d1d"
      },
      "source": [
        "### 📋 **DICTIONARIES** \n",
        "* Dictionary in Python is an unordered collection of data values, used to store data values like a map, which unlike other Data Types that hold only single value as an element, Dictionary holds ***key:value*** pair. Key value is provided in the dictionary to make it more optimized.\n",
        "\n",
        "\n",
        "* Each key is separated from its value by a colon **(:)**, the items are separated by commas, and the whole thing is enclosed in curly braces. An empty dictionary without any items is written with just two curly braces, like this: **{}**.\n",
        "\n",
        "\n",
        "* Keys are ***unique*** within a dictionary while values may not be. The values of a dictionary can be of any type, but the keys must be of an immutable data type such as strings, numbers, or tuples."
      ],
      "id": "2b383d1d"
    },
    {
      "cell_type": "code",
      "metadata": {
        "id": "b4b5eb4e",
        "outputId": "ed39a216-efd3-423a-a541-79d4b207c58d"
      },
      "source": [
        "# Example\n",
        "thisdict = {\n",
        "\"Company\": \"Maruti\",\n",
        "\"model\": \"Swift\",\n",
        "\"year\": 2020\n",
        "}\n",
        "print(thisdict)\n",
        "# Output:"
      ],
      "id": "b4b5eb4e",
      "execution_count": null,
      "outputs": [
        {
          "output_type": "stream",
          "text": [
            "{'Company': 'Maruti', 'model': 'Swift', 'year': 2020}\n"
          ],
          "name": "stdout"
        }
      ]
    },
    {
      "cell_type": "code",
      "metadata": {
        "id": "0bd1d63a",
        "outputId": "84d0ae6a-564b-42f1-b0de-dd9c4e46041c"
      },
      "source": [
        "# Example 2:\n",
        "dict = {'Name': 'Zara', 'Age': 7, 'Class': 'First'}\n",
        "print(\"dict['Name']: \", dict['Name'])\n",
        "print(\"dict['Age']: \", dict['Age'])\n",
        "# Output:"
      ],
      "id": "0bd1d63a",
      "execution_count": null,
      "outputs": [
        {
          "output_type": "stream",
          "text": [
            "dict['Name']:  Zara\n",
            "dict['Age']:  7\n"
          ],
          "name": "stdout"
        }
      ]
    },
    {
      "cell_type": "markdown",
      "metadata": {
        "id": "670a0860"
      },
      "source": [
        "### 📋 **PROPERTIES OF DICTIONARY**\n",
        "\n",
        "Dictionary values have no restrictions. They can be any arbitrary Python object, either standard objects or user-defined objects. However, same is not true for the keys. \n",
        "\n",
        "There are two important points to remember about dictionary keys:\n",
        "\n",
        "1. More than one entry per key not allowed. Which means no duplicate key is allowed. When duplicate keys encountered during assignment, the last assignment wins. For example:"
      ],
      "id": "670a0860"
    },
    {
      "cell_type": "code",
      "metadata": {
        "id": "e5a8dbd8",
        "outputId": "9a9d082e-e7b8-49b2-afa9-706e7838c009"
      },
      "source": [
        "thisdict = {\n",
        "\"Company\": \"Maruti\",\n",
        "\"model\": \"Swift\",\n",
        "\"year\": 2020,\n",
        " \"model\": \"WagonR\"   #then the value which is last assigned is considered as the value of the key.\n",
        "}\n",
        "print(thisdict)\n",
        "# Output:"
      ],
      "id": "e5a8dbd8",
      "execution_count": null,
      "outputs": [
        {
          "output_type": "stream",
          "text": [
            "{'Company': 'Maruti', 'model': 'WagonR', 'year': 2020}\n"
          ],
          "name": "stdout"
        }
      ]
    },
    {
      "cell_type": "markdown",
      "metadata": {
        "id": "1b56bc32"
      },
      "source": [
        "2. Keys must be immutable. Which means you can use strings, numbers or tuples as dictionary keys but something like ['key'] is not allowed. Following is a simple example:"
      ],
      "id": "1b56bc32"
    },
    {
      "cell_type": "code",
      "metadata": {
        "colab": {
          "base_uri": "https://localhost:8080/",
          "height": 195
        },
        "id": "614919cf",
        "outputId": "26b36c0e-7803-4bd6-d021-b4818f5bf237"
      },
      "source": [
        "dict = {['Name']: 'Zara', 'Age': 7}\n",
        "print(\"dict['Name']: \", dict['Name'])\n",
        "# When the above code is executed, it produces the following result which will be an error"
      ],
      "id": "614919cf",
      "execution_count": null,
      "outputs": [
        {
          "output_type": "error",
          "ename": "TypeError",
          "evalue": "ignored",
          "traceback": [
            "\u001b[0;31m---------------------------------------------------------------------------\u001b[0m",
            "\u001b[0;31mTypeError\u001b[0m                                 Traceback (most recent call last)",
            "\u001b[0;32m<ipython-input-10-bd5391ecc03c>\u001b[0m in \u001b[0;36m<module>\u001b[0;34m()\u001b[0m\n\u001b[0;32m----> 1\u001b[0;31m \u001b[0mdict\u001b[0m \u001b[0;34m=\u001b[0m \u001b[0;34m{\u001b[0m\u001b[0;34m[\u001b[0m\u001b[0;34m'Name'\u001b[0m\u001b[0;34m]\u001b[0m\u001b[0;34m:\u001b[0m \u001b[0;34m'Zara'\u001b[0m\u001b[0;34m,\u001b[0m \u001b[0;34m'Age'\u001b[0m\u001b[0;34m:\u001b[0m \u001b[0;36m7\u001b[0m\u001b[0;34m}\u001b[0m\u001b[0;34m\u001b[0m\u001b[0;34m\u001b[0m\u001b[0m\n\u001b[0m\u001b[1;32m      2\u001b[0m \u001b[0mprint\u001b[0m\u001b[0;34m(\u001b[0m\u001b[0;34m\"dict['Name']: \"\u001b[0m\u001b[0;34m,\u001b[0m \u001b[0mdict\u001b[0m\u001b[0;34m[\u001b[0m\u001b[0;34m'Name'\u001b[0m\u001b[0;34m]\u001b[0m\u001b[0;34m)\u001b[0m\u001b[0;34m\u001b[0m\u001b[0;34m\u001b[0m\u001b[0m\n\u001b[1;32m      3\u001b[0m \u001b[0;31m# When the above code is executed, it produces the following result which will be an error\u001b[0m\u001b[0;34m\u001b[0m\u001b[0;34m\u001b[0m\u001b[0;34m\u001b[0m\u001b[0m\n",
            "\u001b[0;31mTypeError\u001b[0m: unhashable type: 'list'"
          ]
        }
      ]
    },
    {
      "cell_type": "markdown",
      "metadata": {
        "id": "19016128"
      },
      "source": [
        "### 📋 **ACCESSING ITEMS**"
      ],
      "id": "19016128"
    },
    {
      "cell_type": "markdown",
      "metadata": {
        "id": "726d5242"
      },
      "source": [
        "- You can access the items of a dictionary by referring to its key name, inside square brackets:"
      ],
      "id": "726d5242"
    },
    {
      "cell_type": "code",
      "metadata": {
        "id": "fae11d1f",
        "outputId": "24f8943a-6b38-4d4a-d75e-d942393af4e7"
      },
      "source": [
        "#Example1:\n",
        "thisdict = {\n",
        "\"Company\": \"Maruti\",\n",
        "\"model\": \"Swift\",\n",
        "\"year\": 2020\n",
        "}\n",
        "x = thisdict[\"model\"]\n",
        "print(x)\n",
        "# Output:"
      ],
      "id": "fae11d1f",
      "execution_count": null,
      "outputs": [
        {
          "output_type": "stream",
          "text": [
            "Swift\n"
          ],
          "name": "stdout"
        }
      ]
    },
    {
      "cell_type": "code",
      "metadata": {
        "id": "f2121859",
        "outputId": "f4b18df3-8cf8-43b4-eb39-c1c6467d30fc"
      },
      "source": [
        "#Example2:\n",
        "dict = {'Name': 'Zara', 'Age': 7, 'Class': 'First'}\n",
        "print(\"dict['Name']: \", dict['Name'])\n",
        "print(\"dict['Age']: \", dict['Age'])\n",
        "# Output:"
      ],
      "id": "f2121859",
      "execution_count": null,
      "outputs": [
        {
          "output_type": "stream",
          "text": [
            "dict['Name']:  Zara\n",
            "dict['Age']:  7\n"
          ],
          "name": "stdout"
        }
      ]
    },
    {
      "cell_type": "markdown",
      "metadata": {
        "id": "54dce9d8"
      },
      "source": [
        "#📋  **UPDATING DICTIONARY**\n",
        "- You can update a dictionary by adding a new entry or a key-value pair, modifying an existing entry, or deleting an existing entry as shown below in the simple example:"
      ],
      "id": "54dce9d8"
    },
    {
      "cell_type": "code",
      "metadata": {
        "id": "46a80fca",
        "outputId": "9b091323-1260-440d-d0f2-b28f56f778aa"
      },
      "source": [
        "# Example:\n",
        "dict = {'Name': 'Zara', 'Age': 7, 'Class': 'First'}\n",
        "dict['Age'] = 8; # update existing entry\n",
        "dict['School'] = \"DPS School\"; # Add new entry\n",
        "\n",
        "print(\"dict['Age']: \", dict['Age'])\n",
        "print(\"dict['School']: \", dict['School'])\n",
        "# Output:"
      ],
      "id": "46a80fca",
      "execution_count": null,
      "outputs": [
        {
          "output_type": "stream",
          "text": [
            "dict['Age']:  8\n",
            "dict['School']:  DPS School\n"
          ],
          "name": "stdout"
        }
      ]
    },
    {
      "cell_type": "markdown",
      "metadata": {
        "id": "guyw9dcuPEVU"
      },
      "source": [
        "#📋  **LOOP THROUGH A DICTIONARY**\n",
        "\n",
        "---\n",
        "\n",
        "\n",
        "\n",
        "* You can loop through a dictionary by using a for loop.\n",
        "* When looping through a dictionary, the return value are the keys of the dictionary, but there are methods to return the values as well.\n",
        "\n"
      ],
      "id": "guyw9dcuPEVU"
    },
    {
      "cell_type": "code",
      "metadata": {
        "colab": {
          "base_uri": "https://localhost:8080/"
        },
        "id": "dJ6d_jNCN3FW",
        "outputId": "d81a1070-a70f-45f0-ccbe-dd75a3d284ca"
      },
      "source": [
        "#Example1\n",
        "thisdict =\t{\n",
        "  \"brand\": \"Ford\",\n",
        "  \"model\": \"Mustang\",\n",
        "  \"year\": 1964\n",
        "}\n",
        "for x in thisdict.values():\n",
        "  print(x)\n",
        "\n",
        "#Output  "
      ],
      "id": "dJ6d_jNCN3FW",
      "execution_count": null,
      "outputs": [
        {
          "output_type": "stream",
          "text": [
            "Ford\n",
            "Mustang\n",
            "1964\n"
          ],
          "name": "stdout"
        }
      ]
    },
    {
      "cell_type": "code",
      "metadata": {
        "colab": {
          "base_uri": "https://localhost:8080/"
        },
        "id": "lywL6JB1QHoZ",
        "outputId": "9af06e6f-5315-4547-dbb4-1bb78219fea3"
      },
      "source": [
        "#Example2\n",
        "## You can also use the values() method to return values of a dictionary:\n",
        "statesAndCapitals = {\n",
        "                     'Gujarat' : 'Gandhinagar',\n",
        "                     'Maharashtra' : 'Mumbai',\n",
        "                     'Rajasthan' : 'Jaipur',\n",
        "                     'Bihar' : 'Patna'\n",
        "                    }\n",
        "                      \n",
        "print('List Of given capitals:\\n')\n",
        "  \n",
        "# Iterating over values\n",
        "for capital in statesAndCapitals.values():\n",
        "    print(capital)\n",
        "#Output   \n"
      ],
      "id": "lywL6JB1QHoZ",
      "execution_count": null,
      "outputs": [
        {
          "output_type": "stream",
          "text": [
            "List Of given capitals:\n",
            "\n",
            "Gandhinagar\n",
            "Mumbai\n",
            "Jaipur\n",
            "Patna\n"
          ],
          "name": "stdout"
        }
      ]
    },
    {
      "cell_type": "code",
      "metadata": {
        "colab": {
          "base_uri": "https://localhost:8080/"
        },
        "id": "sgGnTsu5R9Jh",
        "outputId": "b3415395-e24e-4451-a45f-bf5654a2da3c"
      },
      "source": [
        "#Example3\n",
        "#Loop through both keys and values, by using the items() method:\n",
        "statesAndCapitals = {\n",
        "                     'Gujarat' : 'Gandhinagar',\n",
        "                     'Maharashtra' : 'Mumbai',\n",
        "                     'Rajasthan' : 'Jaipur',\n",
        "                     'Bihar' : 'Patna'\n",
        "                    }\n",
        "                      \n",
        "print('List Of given states and their capitals:\\n')\n",
        "  \n",
        "for state, capital in statesAndCapitals.items():\n",
        "    print(state, \":\", capital)\n",
        " #Output   "
      ],
      "id": "sgGnTsu5R9Jh",
      "execution_count": null,
      "outputs": [
        {
          "output_type": "stream",
          "text": [
            "List Of given states and their capitals:\n",
            "\n",
            "Gujarat : Gandhinagar\n",
            "Maharashtra : Mumbai\n",
            "Rajasthan : Jaipur\n",
            "Bihar : Patna\n"
          ],
          "name": "stdout"
        }
      ]
    },
    {
      "cell_type": "markdown",
      "metadata": {
        "id": "xjPWjmCNPm3s"
      },
      "source": [
        "#📋   **DICTIONARY LENGTH**\n",
        "* To determine how many items (key-value pairs) a dictionary has, use the len() function."
      ],
      "id": "xjPWjmCNPm3s"
    },
    {
      "cell_type": "code",
      "metadata": {
        "colab": {
          "base_uri": "https://localhost:8080/"
        },
        "id": "n_JQ37MoTfkg",
        "outputId": "b624a5d9-aea5-4f01-87db-1c41f6860d24"
      },
      "source": [
        "#Example1\n",
        "dict1 ={'Name':'Steve', 'Age':30, 'Designation':'Programmer'}\n",
        "  \n",
        "# using len() counts the\n",
        "# number of entries\n",
        "print(\"len() method :\", len(dict1))\n",
        "#OutPut"
      ],
      "id": "n_JQ37MoTfkg",
      "execution_count": null,
      "outputs": [
        {
          "output_type": "stream",
          "text": [
            "len() method : 3\n"
          ],
          "name": "stdout"
        }
      ]
    },
    {
      "cell_type": "code",
      "metadata": {
        "colab": {
          "base_uri": "https://localhost:8080/"
        },
        "id": "mc1-9DISTps1",
        "outputId": "e9627dfe-1f5b-4c11-f65b-18d8d7c016b2"
      },
      "source": [
        "#Example2\n",
        "dict1 ={'Name':'Steve', 'Age':30, 'Designation':'Programmer'}\n",
        "# using dict.keys() counts\n",
        "# the no.of.keys in dictionary\n",
        "print(\"len() method with keys() :\", len(dict1.keys()))\n",
        "#Output"
      ],
      "id": "mc1-9DISTps1",
      "execution_count": null,
      "outputs": [
        {
          "output_type": "stream",
          "text": [
            "len() method with keys() : 3\n"
          ],
          "name": "stdout"
        }
      ]
    },
    {
      "cell_type": "code",
      "metadata": {
        "colab": {
          "base_uri": "https://localhost:8080/"
        },
        "id": "BxBm6LkIT8JA",
        "outputId": "a3e67b59-ee49-4631-8a56-db0f8bb3e17d"
      },
      "source": [
        "#Example3\n",
        "dict1 ={'Name':'Steve', 'Age':30, 'Designation':'Programmer'}\n",
        "# using dict.values() counts\n",
        "# the no.of.valuess in dictionary\n",
        "print(\"len() method with values():\", len(dict1.values()))\n",
        "#OutPut\n"
      ],
      "id": "BxBm6LkIT8JA",
      "execution_count": null,
      "outputs": [
        {
          "output_type": "stream",
          "text": [
            "len() method with values(): 3\n"
          ],
          "name": "stdout"
        }
      ]
    },
    {
      "cell_type": "markdown",
      "metadata": {
        "id": "U0C4Kh3BYvmy"
      },
      "source": [
        "#📋  **ADD NEW KEYS TO A DICTIONARY**"
      ],
      "id": "U0C4Kh3BYvmy"
    },
    {
      "cell_type": "code",
      "metadata": {
        "colab": {
          "base_uri": "https://localhost:8080/"
        },
        "id": "fQxsMJMjZLCI",
        "outputId": "657aa122-1c01-4b5a-8e1d-0e2926b597b0"
      },
      "source": [
        "#Method1\n",
        "dict = {'FirstName':'Rohit', 'LastName':'Sharma'}\n",
        "print(\"Current Dict is: \", dict)\n",
        "# using the subscript notation\n",
        "# Dictionary_Name[New_Key_Name] = New_Key_Value\n",
        "dict['FirstName'] = 'Mahendra'\n",
        "dict['LastName'] = 'Singh Dhoni'\n",
        "print(\"Updated Dict is: \", dict)\n",
        "#Output"
      ],
      "id": "fQxsMJMjZLCI",
      "execution_count": null,
      "outputs": [
        {
          "output_type": "stream",
          "text": [
            "Current Dict is:  {'FirstName': 'Rohit', 'LastName': 'Sharma'}\n",
            "Updated Dict is:  {'FirstName': 'Mahendra', 'LastName': 'Singh Dhoni'}\n"
          ],
          "name": "stdout"
        }
      ]
    },
    {
      "cell_type": "code",
      "metadata": {
        "colab": {
          "base_uri": "https://localhost:8080/"
        },
        "id": "hQ8l-jhMaX7V",
        "outputId": "6997c46a-217b-4364-da79-d5d2e77d586b"
      },
      "source": [
        "#Method2\n",
        "#Using update() method\n",
        "dict = {'FirstName':'Rohit', 'LastName':'Sharma'}\n",
        "dict.update({'Gender':'Male'})\n",
        "print(\"Updated Dict \",dict)\n",
        "#Output"
      ],
      "id": "hQ8l-jhMaX7V",
      "execution_count": null,
      "outputs": [
        {
          "output_type": "stream",
          "text": [
            "Updated Dict  {'FirstName': 'Rohit', 'LastName': 'Sharma', 'Gender': 'Male'}\n"
          ],
          "name": "stdout"
        }
      ]
    },
    {
      "cell_type": "code",
      "metadata": {
        "colab": {
          "base_uri": "https://localhost:8080/"
        },
        "id": "6lOrHN5EcMSM",
        "outputId": "682e6421-d7d7-4365-dd59-059d6fb762e2"
      },
      "source": [
        "#Method3\n",
        "#Using __setitem__\n",
        "dict = {'FirstName':'Rohit', 'LastName':'Sharma'}\n",
        "dict.__setitem__('Height', \"5'9\")\n",
        "print(\"Updated Dict\",dict)\n",
        "#Output"
      ],
      "id": "6lOrHN5EcMSM",
      "execution_count": null,
      "outputs": [
        {
          "output_type": "stream",
          "text": [
            "Updated Dict {'FirstName': 'Rohit', 'LastName': 'Sharma', 'Height': \"5'9\"}\n"
          ],
          "name": "stdout"
        }
      ]
    },
    {
      "cell_type": "markdown",
      "metadata": {
        "id": "zvhQqOUmUij7"
      },
      "source": [
        "#📋   **REMOVING ITEMS**\n",
        "* There are several methods to remove items from a dictionary:"
      ],
      "id": "zvhQqOUmUij7"
    },
    {
      "cell_type": "code",
      "metadata": {
        "colab": {
          "base_uri": "https://localhost:8080/"
        },
        "id": "liV36MnJUObE",
        "outputId": "71d0208f-5db2-4975-9380-b07ce317193e"
      },
      "source": [
        "#Method1\n",
        "test_dict = {\"Arushi\" : 22, \"Anuradha\" : 21, \"Mani\" : 21, \"Haritha\" : 21}\n",
        "  \n",
        "# Using del to remove a dict\n",
        "# removes Mani\n",
        "del test_dict['Mani']\n",
        "print(test_dict)\n",
        "#Output"
      ],
      "id": "liV36MnJUObE",
      "execution_count": null,
      "outputs": [
        {
          "output_type": "stream",
          "text": [
            "{'Arushi': 22, 'Anuradha': 21, 'Haritha': 21}\n"
          ],
          "name": "stdout"
        }
      ]
    },
    {
      "cell_type": "code",
      "metadata": {
        "colab": {
          "base_uri": "https://localhost:8080/"
        },
        "id": "QqzyN8EJV3aX",
        "outputId": "1144d75d-f476-4826-fe00-e123d90b58bc"
      },
      "source": [
        "#Method2\n",
        "test_dict = {\"Arushi\" : 22, \"Anuradha\" : 21, \"Mani\" : 21, \"Haritha\" : 21}\n",
        "  \n",
        "# Using pop() to remove a dict. pair\n",
        "# removes Anuradha\n",
        "removed_value = test_dict.pop('Anuradha')\n",
        "print(test_dict)\n",
        "#Output"
      ],
      "id": "QqzyN8EJV3aX",
      "execution_count": null,
      "outputs": [
        {
          "output_type": "stream",
          "text": [
            "{'Arushi': 22, 'Mani': 21, 'Haritha': 21}\n"
          ],
          "name": "stdout"
        }
      ]
    },
    {
      "cell_type": "code",
      "metadata": {
        "colab": {
          "base_uri": "https://localhost:8080/"
        },
        "id": "RmO5z4ifWk0S",
        "outputId": "f75ac767-af94-42ef-cb3a-97b70ea1cd60"
      },
      "source": [
        "#Method3\n",
        "test_dict = {\"Arushi\" : 22, \"Anuradha\" : 21, \"Mani\" : 21, \"Haritha\" : 21}\n",
        "  \n",
        "# Using items() + dict comprehension to remove a dict. pair\n",
        "# removes Arushi\n",
        "new_dict = {key:val for key, val in test_dict.items() if key != 'Arushi'}\n",
        "print(new_dict)\n",
        "#Output"
      ],
      "id": "RmO5z4ifWk0S",
      "execution_count": null,
      "outputs": [
        {
          "output_type": "stream",
          "text": [
            "{'Anuradha': 21, 'Mani': 21, 'Haritha': 21}\n"
          ],
          "name": "stdout"
        }
      ]
    },
    {
      "cell_type": "markdown",
      "metadata": {
        "id": "Wi_OjNueX-F9"
      },
      "source": [
        "#📋 **COPY A DICTIONARY**\n",
        "\n",
        "* They copy() method returns a shallow copy of the dictionary"
      ],
      "id": "Wi_OjNueX-F9"
    },
    {
      "cell_type": "code",
      "metadata": {
        "colab": {
          "base_uri": "https://localhost:8080/"
        },
        "id": "VsTyy5wwW-A2",
        "outputId": "3d87001b-8851-4867-8040-c0650ef9a8cb"
      },
      "source": [
        "#Example1\n",
        "# of dictionary copy\n",
        "original = {1:'Webdev', 2:'Machine Learning'}\n",
        "  \n",
        "# copying using copy() function\n",
        "new = original.copy()\n",
        "  \n",
        "# removing all elements from the list\n",
        "# Only new list becomes empty as copy()\n",
        "# does shallow copy.\n",
        "new.clear() \n",
        "  \n",
        "print('new: ', new)\n",
        "print('original: ', original)\n",
        "#Output"
      ],
      "id": "VsTyy5wwW-A2",
      "execution_count": null,
      "outputs": [
        {
          "output_type": "stream",
          "text": [
            "new:  {1: 'Webdev', 2: 'Machine Learning'}\n",
            "original:  {1: 'Webdev', 2: 'Machine Learning'}\n"
          ],
          "name": "stdout"
        }
      ]
    },
    {
      "cell_type": "code",
      "metadata": {
        "colab": {
          "base_uri": "https://localhost:8080/"
        },
        "id": "IoeppYpDd6BY",
        "outputId": "cdc8fab0-faa4-47ed-e7fd-01eb214fd6ce"
      },
      "source": [
        "#Example2\n",
        "#Unlike copy(), the assignment operator does deep copy.\n",
        "original = {1:'Webdev', 2:'Machine Learning'}\n",
        "  \n",
        "# copying using copy() function\n",
        "new = original.copy()\n",
        "  \n",
        "# removing all elements from new list\n",
        "# and printing both\n",
        "new.clear()\n",
        "print('new: ', new)\n",
        "print('original: ', original)\n",
        "  \n",
        "original = {1:'andriodDev', 2:'Data Science'}\n",
        "  \n",
        "# copying using =\n",
        "new = original\n",
        "  \n",
        "# removing all elements from new list\n",
        "# and printing both\n",
        "new.clear()\n",
        "print('new: ', new)\n",
        "print('original: ', original)\n",
        "#Output"
      ],
      "id": "IoeppYpDd6BY",
      "execution_count": null,
      "outputs": [
        {
          "output_type": "stream",
          "text": [
            "new:  {}\n",
            "original:  {1: 'Webdev', 2: 'Machine Learning'}\n",
            "new:  {}\n",
            "original:  {}\n"
          ],
          "name": "stdout"
        }
      ]
    },
    {
      "cell_type": "markdown",
      "metadata": {
        "id": "kCQlUAP_6Uwv"
      },
      "source": [
        "##📋   **BUILT-IN METHODS OF DICTIONARY**\n",
        "\n",
        "|Methods|Description|\n",
        "|-------|-----------|\n",
        "|clear()|\tRemoves all items from the dictionary.|\n",
        "|copy()|\tReturns a shallow copy of the dictionary.|\n",
        "|fromkeys(seq[, v])|\tReturns a new dictionary with keys from seq and value equal to v (defaults to None).|\n",
        "|get(key[,d])|\tReturns the value of the key. If the key does not exist, returns d (defaults to None).|\n",
        "|items()|\tReturn a new object of the dictionary's items in (key, value) format.|\n",
        "|keys()|\tReturns a new.|\n",
        "|all()|\tReturn True if all keys of the dictionary are True (or if the dictionary is empty).|\n",
        "|any()|\tReturn True if any key of the dictionary is true. If the dictionary is empty, return False.|\n",
        "|len()|\tReturn the length (the number of items) in the dictionary.|\n",
        "|cmp()|\tCompares items of two dictionaries. (Not available in Python 3)|\n",
        "|sorted()|\tReturn a new sorted list of keys in the dictionary.|\n"
      ],
      "id": "kCQlUAP_6Uwv"
    },
    {
      "cell_type": "code",
      "metadata": {
        "id": "kJS51Tmn7Mcj"
      },
      "source": [
        ""
      ],
      "id": "kJS51Tmn7Mcj",
      "execution_count": null,
      "outputs": []
    }
  ]
}