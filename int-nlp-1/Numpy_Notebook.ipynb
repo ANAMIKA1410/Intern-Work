{
  "nbformat": 4,
  "nbformat_minor": 0,
  "metadata": {
    "colab": {
      "name": "Numpy-Notebook.ipynb",
      "provenance": []
    },
    "kernelspec": {
      "name": "python3",
      "display_name": "Python 3"
    },
    "language_info": {
      "name": "python"
    }
  },
  "cells": [
    {
      "cell_type": "markdown",
      "metadata": {
        "id": "WbjjZb2QQNGP"
      },
      "source": [
        "# **numpy.concatenate() in Python**\n",
        "The concatenate() function is a function from the NumPy package. This function essentially combines NumPy arrays together. This function is basically used for joining two or more arrays of the same shape along a specified axis. There are the following things which are essential to keep in mind:\n",
        "\n",
        "NumPy's concatenate() is not like a traditional database join. It is like stacking NumPy arrays.\n",
        "This function can operate both vertically and horizontally. This means we can concatenate arrays together horizontally or vertically.\n",
        "numpy.concatenate()\n",
        "The concatenate() function is usually written as np.concatenate(), but we can also write it as numpy.concatenate(). It depends on the way of importing the numpy package, either import numpy as np or import numpy, respectively."
      ]
    },
    {
      "cell_type": "code",
      "metadata": {
        "colab": {
          "base_uri": "https://localhost:8080/"
        },
        "id": "oqxGQwjQQVUu",
        "outputId": "56c39a66-49cf-4627-c021-ec7734a431fd"
      },
      "source": [
        "import numpy as np  \n",
        "x=np.array([[1,2],[3,4]])  \n",
        "y=np.array([[12,30]])  \n",
        "z=np.concatenate((x,y))  \n",
        "z  "
      ],
      "execution_count": 1,
      "outputs": [
        {
          "output_type": "execute_result",
          "data": {
            "text/plain": [
              "array([[ 1,  2],\n",
              "       [ 3,  4],\n",
              "       [12, 30]])"
            ]
          },
          "metadata": {
            "tags": []
          },
          "execution_count": 1
        }
      ]
    },
    {
      "cell_type": "code",
      "metadata": {
        "colab": {
          "base_uri": "https://localhost:8080/"
        },
        "id": "h7NQ3A2aPZEe",
        "outputId": "2893f7a4-b017-4a86-c114-a34e6df8465c"
      },
      "source": [
        "#numpy.concatenate() with axis=0\n",
        "import numpy as np  \n",
        "x=np.array([[1,2],[3,4]])  \n",
        "y=np.array([[12,30]])  \n",
        "z=np.concatenate((x,y), axis=0)  \n",
        "z  "
      ],
      "execution_count": 2,
      "outputs": [
        {
          "output_type": "execute_result",
          "data": {
            "text/plain": [
              "array([[ 1,  2],\n",
              "       [ 3,  4],\n",
              "       [12, 30]])"
            ]
          },
          "metadata": {
            "tags": []
          },
          "execution_count": 2
        }
      ]
    },
    {
      "cell_type": "code",
      "metadata": {
        "colab": {
          "base_uri": "https://localhost:8080/"
        },
        "id": "Nn2Ok0mPQtdC",
        "outputId": "b0e7f541-ccdf-4ae7-9d36-2ec2240a906e"
      },
      "source": [
        "#numpy.concatenate() with axis=1\n",
        "import numpy as np  \n",
        "x=np.array([[1,2],[3,4]])  \n",
        "y=np.array([[12,30]])  \n",
        "z=np.concatenate((x,y.T), axis=1)  \n",
        "z  "
      ],
      "execution_count": 3,
      "outputs": [
        {
          "output_type": "execute_result",
          "data": {
            "text/plain": [
              "array([[ 1,  2, 12],\n",
              "       [ 3,  4, 30]])"
            ]
          },
          "metadata": {
            "tags": []
          },
          "execution_count": 3
        }
      ]
    },
    {
      "cell_type": "code",
      "metadata": {
        "colab": {
          "base_uri": "https://localhost:8080/"
        },
        "id": "8yqaOBWYQ2lX",
        "outputId": "54fec4ed-c19c-4b1f-f317-2f644c2d09ca"
      },
      "source": [
        "#numpy.concatenate() with axis=None\n",
        "import numpy as np  \n",
        "x=np.array([[1,2],[3,4]])  \n",
        "y=np.array([[12,30]])  \n",
        "z=np.concatenate((x,y), axis=None)  \n",
        "z  "
      ],
      "execution_count": 5,
      "outputs": [
        {
          "output_type": "execute_result",
          "data": {
            "text/plain": [
              "array([ 1,  2,  3,  4, 12, 30])"
            ]
          },
          "metadata": {
            "tags": []
          },
          "execution_count": 5
        }
      ]
    },
    {
      "cell_type": "markdown",
      "metadata": {
        "id": "5QMKYo9eRKSp"
      },
      "source": [
        "# **numpy.append() in Python**\n",
        "The numpy.append() function is available in NumPy package. As the name suggests, append means adding something. The numpy.append() function is used to add or append new values to an existing numpy array. This function adds the new values at the end of the array.\n",
        "\n",
        "The numpy append() function is used to merge two arrays. It returns a new array, and the original array remains unchanged."
      ]
    },
    {
      "cell_type": "code",
      "metadata": {
        "colab": {
          "base_uri": "https://localhost:8080/"
        },
        "id": "sCGVX4TcRPFq",
        "outputId": "63c651d2-4940-47fc-9662-563f80ff8e80"
      },
      "source": [
        "# np.append()\n",
        "import numpy as np  \n",
        "a=np.array([[10, 20, 30], [40, 50, 60], [70, 80, 90]])  \n",
        "b=np.array([[11, 21, 31], [42, 52, 62], [73, 83, 93]])  \n",
        "c=np.append(a,b)  \n",
        "c "
      ],
      "execution_count": 7,
      "outputs": [
        {
          "output_type": "execute_result",
          "data": {
            "text/plain": [
              "array([10, 20, 30, 40, 50, 60, 70, 80, 90, 11, 21, 31, 42, 52, 62, 73, 83,\n",
              "       93])"
            ]
          },
          "metadata": {
            "tags": []
          },
          "execution_count": 7
        }
      ]
    },
    {
      "cell_type": "code",
      "metadata": {
        "colab": {
          "base_uri": "https://localhost:8080/"
        },
        "id": "6nD3PGHPSP9d",
        "outputId": "f3391853-ee16-4aef-d3e9-2ba7285cade5"
      },
      "source": [
        "#np.append({a1,a2,...}, axis=0)\n",
        "import numpy as np  \n",
        "a=np.array([[10, 20, 30], [40, 50, 60], [70, 80, 90]])  \n",
        "b=np.array([[11, 21, 31], [42, 52, 62], [73, 83, 93]])  \n",
        "c=np.append(a,b,axis=0)  \n",
        "c  "
      ],
      "execution_count": 8,
      "outputs": [
        {
          "output_type": "execute_result",
          "data": {
            "text/plain": [
              "array([[10, 20, 30],\n",
              "       [40, 50, 60],\n",
              "       [70, 80, 90],\n",
              "       [11, 21, 31],\n",
              "       [42, 52, 62],\n",
              "       [73, 83, 93]])"
            ]
          },
          "metadata": {
            "tags": []
          },
          "execution_count": 8
        }
      ]
    },
    {
      "cell_type": "code",
      "metadata": {
        "colab": {
          "base_uri": "https://localhost:8080/"
        },
        "id": "H__2PHrSSYFA",
        "outputId": "43786a8d-056b-4553-ef86-176488ce7efe"
      },
      "source": [
        "#np.append({a1,a2,...}, axis=1)\n",
        "import numpy as np  \n",
        "a=np.array([[10, 20, 30], [40, 50, 60], [70, 80, 90]])  \n",
        "b=np.array([[11, 21, 31], [42, 52, 62], [73, 83, 93]])  \n",
        "c=np.append(a,b,axis=1)  \n",
        "c  "
      ],
      "execution_count": 9,
      "outputs": [
        {
          "output_type": "execute_result",
          "data": {
            "text/plain": [
              "array([[10, 20, 30, 11, 21, 31],\n",
              "       [40, 50, 60, 42, 52, 62],\n",
              "       [70, 80, 90, 73, 83, 93]])"
            ]
          },
          "metadata": {
            "tags": []
          },
          "execution_count": 9
        }
      ]
    },
    {
      "cell_type": "markdown",
      "metadata": {
        "id": "FhQdDyvsUGw6"
      },
      "source": [
        "# **numpy.sum() in Python**\n",
        "The numpy.sum() function is available in the NumPy package of Python. This function is used to compute the sum of all elements, the sum of each row, and the sum of each column of a given array.\n",
        "Essentially, this sum ups the elements of an array, takes the elements within a ndarray, and adds them together. It is also possible to add rows and column elements of an array.\n",
        "The output will be in the form of an array object\n",
        "\n",
        "![image](https://user-images.githubusercontent.com/84801896/123977559-b6edc380-d9dc-11eb-8b72-cf25468012b4.png)\n",
        "### Syntax\n",
        "There is the following syntax of numpy.sum() function:\n",
        "numpy.sum(arr, axis=None, dtype=None, out=None, keepdims=<no value>, initial=<no value>) \n",
        "  \n",
        "\n",
        " \n",
        "\n",
        "\n"
      ]
    },
    {
      "cell_type": "code",
      "metadata": {
        "colab": {
          "base_uri": "https://localhost:8080/"
        },
        "id": "urYgnoTLUUS8",
        "outputId": "e8a22977-e1f4-4971-b212-2eb6744316ea"
      },
      "source": [
        "  \n",
        "\n",
        "#import numpy.array()\n",
        "import numpy as np  \n",
        "a=np.array([0.4,0.5])  \n",
        "b=np.sum(a)  \n",
        "b  \n"
      ],
      "execution_count": 12,
      "outputs": [
        {
          "output_type": "execute_result",
          "data": {
            "text/plain": [
              "0.9"
            ]
          },
          "metadata": {
            "tags": []
          },
          "execution_count": 12
        }
      ]
    },
    {
      "cell_type": "code",
      "metadata": {
        "colab": {
          "base_uri": "https://localhost:8080/"
        },
        "id": "RHUZ8xuIUuQv",
        "outputId": "b67b66bd-fb67-415e-ccbe-2ce1f662bc0c"
      },
      "source": [
        "import numpy as np  \n",
        "a=np.array([0.4,0.5,0.9,6.1])  \n",
        "x=np.sum(a, dtype=np.int32)  \n",
        "x  "
      ],
      "execution_count": 13,
      "outputs": [
        {
          "output_type": "execute_result",
          "data": {
            "text/plain": [
              "6"
            ]
          },
          "metadata": {
            "tags": []
          },
          "execution_count": 13
        }
      ]
    },
    {
      "cell_type": "markdown",
      "metadata": {
        "id": "SBVTNEjWU3yn"
      },
      "source": [
        "# **numpy.zeros() in Python**\n",
        "The numpy.zeros() function is one of the most significant functions which is used in machine learning programs widely. This function is used to generate an array containing zeros. The numpy.zeros() function provide a new array of given shape and type, which is filled with zeros. \n",
        "![image](https://user-images.githubusercontent.com/84801896/123979062-041e6500-d9de-11eb-860a-86ba6ebb55bc.png)\n",
        "\n",
        "Syntax\n",
        "numpy.zeros(shape, dtype=float, order='C'  \n",
        "Parameters\n",
        "shape: int or tuple of ints\n",
        "\n",
        "This parameter is used to define the dimensions of the array. This parameter is used for the shape in which we want to create an array, such as (3,2) or 2.\n",
        "\n",
        "dtype: data-type(optional)\n",
        "\n",
        "This parameter is used to define the desired data-type for the array. By default, the data-type is numpy.float64. This parameter is not essential for defining."
      ]
    },
    {
      "cell_type": "code",
      "metadata": {
        "colab": {
          "base_uri": "https://localhost:8080/"
        },
        "id": "6oHpd_pzXNG8",
        "outputId": "333362f5-7a9f-4941-b422-827f41b34cfd"
      },
      "source": [
        "#numpy.zeros() without dtype and order\n",
        "import numpy as np  \n",
        "a=np.zeros(6)  \n",
        "a  "
      ],
      "execution_count": 14,
      "outputs": [
        {
          "output_type": "execute_result",
          "data": {
            "text/plain": [
              "array([0., 0., 0., 0., 0., 0.])"
            ]
          },
          "metadata": {
            "tags": []
          },
          "execution_count": 14
        }
      ]
    },
    {
      "cell_type": "code",
      "metadata": {
        "colab": {
          "base_uri": "https://localhost:8080/"
        },
        "id": "vRh8J6ttXUcu",
        "outputId": "c20c321d-9631-45f9-e1f8-0990379edd41"
      },
      "source": [
        "#numpy.zeros() without order\n",
        "import numpy as np  \n",
        "a=np.zeros((6,), dtype=int)  \n",
        "a   "
      ],
      "execution_count": 16,
      "outputs": [
        {
          "output_type": "execute_result",
          "data": {
            "text/plain": [
              "array([0, 0, 0, 0, 0, 0])"
            ]
          },
          "metadata": {
            "tags": []
          },
          "execution_count": 16
        }
      ]
    },
    {
      "cell_type": "code",
      "metadata": {
        "colab": {
          "base_uri": "https://localhost:8080/"
        },
        "id": "dC_vZusoXbIr",
        "outputId": "6426bfc4-2b84-4889-c07e-8c3f4a5bbe8d"
      },
      "source": [
        "#numpy.zeros() with shape\n",
        "import numpy as np  \n",
        "a=np.zeros((6,2))  \n",
        "a  "
      ],
      "execution_count": 17,
      "outputs": [
        {
          "output_type": "execute_result",
          "data": {
            "text/plain": [
              "array([[0., 0.],\n",
              "       [0., 0.],\n",
              "       [0., 0.],\n",
              "       [0., 0.],\n",
              "       [0., 0.],\n",
              "       [0., 0.]])"
            ]
          },
          "metadata": {
            "tags": []
          },
          "execution_count": 17
        }
      ]
    }
  ]
}